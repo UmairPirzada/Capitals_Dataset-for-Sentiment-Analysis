{
 "cells": [
  {
   "cell_type": "code",
   "execution_count": null,
   "id": "7506e0de",
   "metadata": {},
   "outputs": [],
   "source": [
    "import pandas as pd\n",
    "import re\n",
    "from nltk.corpus import stopwords\n",
    "from nltk.tokenize import word_tokenize\n",
    "from sklearn.feature_extraction.text import TfidfVectorizer\n",
    "from sklearn.preprocessing import LabelEncoder\n",
    "import pickle\n",
    "\n",
    "# Load models, vectorizer, and label encoders\n",
    "with open('capital_model_SVM_withoutGS.pkl', 'rb') as f:\n",
    "    capital_model = pickle.load(f)\n",
    "\n",
    "with open('sentiment_model_LR_withoutGS.pkl', 'rb') as f:\n",
    "    sentiment_model = pickle.load(f)\n",
    "\n",
    "with open('tfidf_vectorizer_SVM_LR_withoutGS.pkl', 'rb') as f:\n",
    "    tfidf_vectorizer = pickle.load(f)\n",
    "\n",
    "with open('label_encoder_capital_SVM_LR_withoutGS.pkl', 'rb') as f:\n",
    "    label_encoder_capital = pickle.load(f)\n",
    "\n",
    "with open('label_encoder_sentiment_SVM_LR_withoutGS.pkl', 'rb') as f:\n",
    "    label_encoder_sentiment = pickle.load(f)\n",
    "\n",
    "\n",
    "# Define stop words\n",
    "stop_words = set(stopwords.words('english'))\n",
    "\n",
    "# Define text preprocessing functions\n",
    "def remove_unnecessary_characters(text):\n",
    "    text = re.sub(r'<.*?>', '', str(text))\n",
    "    text = re.sub(r'[^a-zA-Z0-9\\s]', '', str(text))\n",
    "    text = re.sub(r'\\s+', ' ', str(text)).strip()\n",
    "    return text\n",
    "\n",
    "def tokenize_text(text):\n",
    "    try:\n",
    "        text = str(text)\n",
    "        tokens = word_tokenize(text)\n",
    "        return tokens\n",
    "    except Exception as e:\n",
    "        print(f\"Error tokenizing text: {e}\")\n",
    "        return []\n",
    "\n",
    "def predict_pipeline(text):\n",
    "    clean_text = remove_unnecessary_characters(text)\n",
    "    tokens = tokenize_text(clean_text)\n",
    "    text_without_stopwords = ' '.join([word for word in tokens if word.lower() not in stop_words])\n",
    "    text_tfidf = tfidf_vectorizer.transform([text_without_stopwords])\n",
    "    \n",
    "    capital_prediction_encoded = capital_model.predict(text_tfidf)\n",
    "    sentiment_prediction_encoded = sentiment_model.predict(text_tfidf)\n",
    "    \n",
    "    capital_prediction = label_encoder_capital.inverse_transform(capital_prediction_encoded)[0]\n",
    "    sentiment_prediction = label_encoder_sentiment.inverse_transform(sentiment_prediction_encoded)[0]\n",
    "    \n",
    "    return capital_prediction, sentiment_prediction\n",
    "\n",
    "# Test the prediction function\n",
    "test_sentence = \"Leaders' focus on achieving excellence motivated the team to perform their best. This is a core aspect of quality leadership. 🔝\"\n",
    "capital, sentiment = predict_pipeline(test_sentence)\n",
    "print(f\"Predicted Capital: {capital}, Predicted Sentiment: {sentiment}\")\n"
   ]
  },
  {
   "cell_type": "code",
   "execution_count": null,
   "id": "1944cc64",
   "metadata": {},
   "outputs": [],
   "source": [
    "test_sentence = \"✨ They found meaning and purpose in life through their spirituality.\"\n",
    "capital, sentiment = predict_pipeline(test_sentence)\n",
    "print(f\"Predicted Capital: {capital}, Predicted Sentiment: {sentiment}\")\n"
   ]
  },
  {
   "cell_type": "code",
   "execution_count": null,
   "id": "715307c6",
   "metadata": {},
   "outputs": [],
   "source": [
    "import tkinter as tk\n",
    "from tkinter import simpledialog, messagebox"
   ]
  },
  {
   "cell_type": "code",
   "execution_count": null,
   "id": "aeed11aa",
   "metadata": {},
   "outputs": [],
   "source": [
    "def predict():\n",
    "    text = entry.get()\n",
    "    if not text:\n",
    "        messagebox.showwarning(\"Input Error\", \"Please enter a sentence.\")\n",
    "        return\n",
    "    predicted_capital, predicted_sentiment = predict_pipeline(text)\n",
    "\n",
    "    result_text = f\"Predicted Capital: {predicted_capital}\\nPredicted Sentiment: {predicted_sentiment}\"\n",
    "    result_window = tk.Toplevel(root)\n",
    "    result_window.title(\"Prediction Result\")\n",
    "\n",
    "    result_label = tk.Label(result_window, text=result_text, font=(\"Helvetica\", 14), padx=20, pady=20)\n",
    "    result_label.pack()\n",
    "\n",
    "    close_button = tk.Button(result_window, text=\"Close\", command=result_window.destroy, font=(\"Helvetica\", 12), padx=10, pady=5)\n",
    "    close_button.pack(pady=10)\n",
    "\n",
    "root = tk.Tk()\n",
    "root.title(\"Capital and Sentiment Prediction\")\n",
    "# Set window size and position\n",
    "root.geometry(\"500x250+300+200\")\n",
    "\n",
    "label = tk.Label(root, text=\"Enter a sentence:\", font=(\"Helvetica\", 14))\n",
    "label.pack(pady=20)\n",
    "\n",
    "entry = tk.Entry(root, width=50, font=(\"Helvetica\", 12))\n",
    "entry.pack(pady=10)\n",
    "\n",
    "predict_button = tk.Button(root, text=\"Predict\", command=predict, font=(\"Helvetica\", 12), padx=10, pady=5)\n",
    "predict_button.pack(pady=20)\n",
    "\n",
    "root.mainloop()"
   ]
  },
  {
   "cell_type": "markdown",
   "id": "8611c892",
   "metadata": {},
   "source": [
    "# Thank You!"
   ]
  }
 ],
 "metadata": {
  "kernelspec": {
   "display_name": "Python 3 (ipykernel)",
   "language": "python",
   "name": "python3"
  },
  "language_info": {
   "codemirror_mode": {
    "name": "ipython",
    "version": 3
   },
   "file_extension": ".py",
   "mimetype": "text/x-python",
   "name": "python",
   "nbconvert_exporter": "python",
   "pygments_lexer": "ipython3",
   "version": "3.11.5"
  }
 },
 "nbformat": 4,
 "nbformat_minor": 5
}
