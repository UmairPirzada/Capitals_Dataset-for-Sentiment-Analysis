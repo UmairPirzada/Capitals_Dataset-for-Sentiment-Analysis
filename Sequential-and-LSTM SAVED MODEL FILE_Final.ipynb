{
 "cells": [
  {
   "cell_type": "code",
   "execution_count": 1,
   "id": "b190db93",
   "metadata": {},
   "outputs": [],
   "source": [
    "import tkinter as tk\n",
    "from tkinter import messagebox\n",
    "import pickle\n",
    "from tensorflow.keras.models import load_model\n",
    "from tensorflow.keras.preprocessing.sequence import pad_sequences"
   ]
  },
  {
   "cell_type": "code",
   "execution_count": 2,
   "id": "377400dd",
   "metadata": {},
   "outputs": [],
   "source": [
    "# Load the Keras model for sentiment\n",
    "sentiment_model_LSTM_WithoutGS = load_model('sentiment_model_LSTM_WithoutGS.keras')\n",
    "\n",
    "# Load the tokenizer\n",
    "with open('tokenizer_LSTM_WithoutGS.pkl', 'rb') as file:\n",
    "    tokenizer_LSTM_WithoutGS = pickle.load(file)\n",
    "\n",
    "# Load the label encoder for sentiment\n",
    "with open('label_encoder_sentiment_LSTM_WithoutGS.pkl', 'rb') as f:\n",
    "    label_encoder_sentiment_LSTM_WithoutGS = pickle.load(f)\n",
    "\n",
    "# Load the Keras model for capital\n",
    "capital_model_LSTM_WithoutGS = load_model('capital_model_LSTM_WithoutGS.keras')\n",
    "\n",
    "# Load the TF-IDF vectorizer\n",
    "with open('tfidf_vectorizer_LSTM_WithoutGS.pkl', 'rb') as file:\n",
    "    tfidf_vectorizer_LSTM_WithoutGS = pickle.load(file)\n",
    "\n",
    "# Load the label encoder for capital\n",
    "with open('label_encoder_capital_LSTM_WithoutGS.pkl', 'rb') as f:\n",
    "    label_encoder_capital_LSTM_WithoutGS = pickle.load(f)\n",
    "\n",
    "# Define max sequence length (must be the same as in the training phase)\n",
    "max_sequence_length = 5000  # Replace with the actual value used during training\n"
   ]
  },
  {
   "cell_type": "code",
   "execution_count": 3,
   "id": "32e4a0ae",
   "metadata": {},
   "outputs": [
    {
     "name": "stdout",
     "output_type": "stream",
     "text": [
      "\u001b[1m1/1\u001b[0m \u001b[32m━━━━━━━━━━━━━━━━━━━━\u001b[0m\u001b[37m\u001b[0m \u001b[1m0s\u001b[0m 179ms/step\n",
      "\u001b[1m1/1\u001b[0m \u001b[32m━━━━━━━━━━━━━━━━━━━━\u001b[0m\u001b[37m\u001b[0m \u001b[1m1s\u001b[0m 801ms/step\n",
      "Predicted Capital: Human Leadership Capital, Predicted Sentiment: Positive\n"
     ]
    }
   ],
   "source": [
    "def predict_pipeline(text, max_sequence_length):\n",
    "    clean_text = text  # Assuming the text is already cleaned\n",
    "    text_tfidf = tfidf_vectorizer_LSTM_WithoutGS.transform([clean_text])\n",
    "\n",
    "    # Predict capital\n",
    "    capital_prediction_encoded = capital_model_LSTM_WithoutGS.predict(text_tfidf).argmax(axis=1)\n",
    "    capital_prediction = label_encoder_capital_LSTM_WithoutGS.inverse_transform(capital_prediction_encoded)[0]\n",
    "\n",
    "    # Predict sentiment\n",
    "    text_seq = tokenizer_LSTM_WithoutGS.texts_to_sequences([clean_text])\n",
    "    text_pad = pad_sequences(text_seq, maxlen=max_sequence_length)\n",
    "    sentiment_prediction_encoded = sentiment_model_LSTM_WithoutGS.predict(text_pad).argmax(axis=1)\n",
    "    sentiment_prediction = label_encoder_sentiment_LSTM_WithoutGS.inverse_transform(sentiment_prediction_encoded)[0]\n",
    "\n",
    "    return capital_prediction, sentiment_prediction\n",
    "\n",
    "# Test the prediction function\n",
    "test_sentence = \"Leaders' focus on achieving excellence motivated the team to perform their best. This is a core aspect of quality leadership. 🔝\"\n",
    "capital, sentiment = predict_pipeline(test_sentence, max_sequence_length)\n",
    "print(f\"Predicted Capital: {capital}, Predicted Sentiment: {sentiment}\")\n"
   ]
  },
  {
   "cell_type": "code",
   "execution_count": 4,
   "id": "3389ca08",
   "metadata": {},
   "outputs": [],
   "source": [
    "def predict():\n",
    "    text = entry.get()\n",
    "    if not text:\n",
    "        messagebox.showwarning(\"Input Error\", \"Please enter a sentence.\")\n",
    "        return\n",
    "    predicted_capital, predicted_sentiment = predict_pipeline(text, max_sequence_length)\n",
    "\n",
    "    result_text = f\"Predicted Capital: {predicted_capital}\\nPredicted Sentiment: {predicted_sentiment}\"\n",
    "    result_window = tk.Toplevel(root)\n",
    "    result_window.title(\"Prediction Result\")\n",
    "\n",
    "    result_label = tk.Label(result_window, text=result_text, font=(\"Helvetica\", 14), padx=20, pady=20)\n",
    "    result_label.pack()\n",
    "\n",
    "    close_button = tk.Button(result_window, text=\"Close\", command=result_window.destroy, font=(\"Helvetica\", 12), padx=10, pady=5)\n",
    "    close_button.pack(pady=10)\n",
    "\n",
    "root = tk.Tk()\n",
    "root.title(\"Capital and Sentiment Prediction\")\n",
    "\n",
    "# Set window size and position\n",
    "root.geometry(\"500x250+300+200\")\n",
    "\n",
    "label = tk.Label(root, text=\"Enter a sentence:\", font=(\"Helvetica\", 14))\n",
    "label.pack(pady=20)\n",
    "\n",
    "entry = tk.Entry(root, width=50, font=(\"Helvetica\", 12))\n",
    "entry.pack(pady=10)\n",
    "\n",
    "predict_button = tk.Button(root, text=\"Predict\", command=predict, font=(\"Helvetica\", 12), padx=10, pady=5)\n",
    "predict_button.pack(pady=20)\n",
    "\n",
    "root.mainloop()"
   ]
  },
  {
   "cell_type": "markdown",
   "id": "3f4270e2",
   "metadata": {},
   "source": [
    "# Thank You!"
   ]
  }
 ],
 "metadata": {
  "kernelspec": {
   "display_name": "Python 3 (ipykernel)",
   "language": "python",
   "name": "python3"
  },
  "language_info": {
   "codemirror_mode": {
    "name": "ipython",
    "version": 3
   },
   "file_extension": ".py",
   "mimetype": "text/x-python",
   "name": "python",
   "nbconvert_exporter": "python",
   "pygments_lexer": "ipython3",
   "version": "3.11.5"
  }
 },
 "nbformat": 4,
 "nbformat_minor": 5
}
